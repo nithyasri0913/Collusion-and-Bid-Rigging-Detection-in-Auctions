{
 "cells": [
  {
   "cell_type": "code",
   "execution_count": 1,
   "id": "71f9a173",
   "metadata": {},
   "outputs": [],
   "source": [
    "import pandas as pd\n",
    "import numpy as np"
   ]
  },
  {
   "cell_type": "code",
   "execution_count": 2,
   "id": "726c237b",
   "metadata": {},
   "outputs": [],
   "source": [
    "# Load the auction dataset (assuming you have the dataset in CSV format)\n",
    "auction_data = pd.read_csv('auction.csv')"
   ]
  },
  {
   "cell_type": "markdown",
   "id": "55e987fd",
   "metadata": {},
   "source": [
    "# Data Pre-Processing"
   ]
  },
  {
   "cell_type": "code",
   "execution_count": 3,
   "id": "93cee0d7",
   "metadata": {},
   "outputs": [
    {
     "name": "stdout",
     "output_type": "stream",
     "text": [
      "auctionid        0\n",
      "bid              0\n",
      "bidtime          0\n",
      "bidder          16\n",
      "bidderrate      11\n",
      "openbid          0\n",
      "price            0\n",
      "item             0\n",
      "auction_type     0\n",
      "dtype: int64\n"
     ]
    }
   ],
   "source": [
    "# 1. Handle Missing Values\n",
    "# Check for missing values\n",
    "print(auction_data.isnull().sum())"
   ]
  },
  {
   "cell_type": "code",
   "execution_count": 5,
   "id": "5ba39589",
   "metadata": {},
   "outputs": [
    {
     "data": {
      "text/html": [
       "<div>\n",
       "<style scoped>\n",
       "    .dataframe tbody tr th:only-of-type {\n",
       "        vertical-align: middle;\n",
       "    }\n",
       "\n",
       "    .dataframe tbody tr th {\n",
       "        vertical-align: top;\n",
       "    }\n",
       "\n",
       "    .dataframe thead th {\n",
       "        text-align: right;\n",
       "    }\n",
       "</style>\n",
       "<table border=\"1\" class=\"dataframe\">\n",
       "  <thead>\n",
       "    <tr style=\"text-align: right;\">\n",
       "      <th></th>\n",
       "      <th>auctionid</th>\n",
       "      <th>bid</th>\n",
       "      <th>bidtime</th>\n",
       "      <th>bidder</th>\n",
       "      <th>bidderrate</th>\n",
       "      <th>openbid</th>\n",
       "      <th>price</th>\n",
       "      <th>item</th>\n",
       "      <th>auction_type</th>\n",
       "    </tr>\n",
       "  </thead>\n",
       "  <tbody>\n",
       "    <tr>\n",
       "      <th>0</th>\n",
       "      <td>1638893549</td>\n",
       "      <td>175.0</td>\n",
       "      <td>2.230949</td>\n",
       "      <td>schadenfreud</td>\n",
       "      <td>0.0</td>\n",
       "      <td>99.0</td>\n",
       "      <td>177.5</td>\n",
       "      <td>Cartier wristwatch</td>\n",
       "      <td>3 day auction</td>\n",
       "    </tr>\n",
       "    <tr>\n",
       "      <th>1</th>\n",
       "      <td>1638893549</td>\n",
       "      <td>100.0</td>\n",
       "      <td>2.600116</td>\n",
       "      <td>chuik</td>\n",
       "      <td>0.0</td>\n",
       "      <td>99.0</td>\n",
       "      <td>177.5</td>\n",
       "      <td>Cartier wristwatch</td>\n",
       "      <td>3 day auction</td>\n",
       "    </tr>\n",
       "    <tr>\n",
       "      <th>2</th>\n",
       "      <td>1638893549</td>\n",
       "      <td>120.0</td>\n",
       "      <td>2.600810</td>\n",
       "      <td>kiwisstuff</td>\n",
       "      <td>2.0</td>\n",
       "      <td>99.0</td>\n",
       "      <td>177.5</td>\n",
       "      <td>Cartier wristwatch</td>\n",
       "      <td>3 day auction</td>\n",
       "    </tr>\n",
       "    <tr>\n",
       "      <th>3</th>\n",
       "      <td>1638893549</td>\n",
       "      <td>150.0</td>\n",
       "      <td>2.601076</td>\n",
       "      <td>kiwisstuff</td>\n",
       "      <td>2.0</td>\n",
       "      <td>99.0</td>\n",
       "      <td>177.5</td>\n",
       "      <td>Cartier wristwatch</td>\n",
       "      <td>3 day auction</td>\n",
       "    </tr>\n",
       "    <tr>\n",
       "      <th>4</th>\n",
       "      <td>1638893549</td>\n",
       "      <td>177.5</td>\n",
       "      <td>2.909826</td>\n",
       "      <td>eli.flint@flightsafety.co</td>\n",
       "      <td>4.0</td>\n",
       "      <td>99.0</td>\n",
       "      <td>177.5</td>\n",
       "      <td>Cartier wristwatch</td>\n",
       "      <td>3 day auction</td>\n",
       "    </tr>\n",
       "  </tbody>\n",
       "</table>\n",
       "</div>"
      ],
      "text/plain": [
       "    auctionid    bid   bidtime                     bidder  bidderrate  \\\n",
       "0  1638893549  175.0  2.230949               schadenfreud         0.0   \n",
       "1  1638893549  100.0  2.600116                      chuik         0.0   \n",
       "2  1638893549  120.0  2.600810                 kiwisstuff         2.0   \n",
       "3  1638893549  150.0  2.601076                 kiwisstuff         2.0   \n",
       "4  1638893549  177.5  2.909826  eli.flint@flightsafety.co         4.0   \n",
       "\n",
       "   openbid  price                item   auction_type  \n",
       "0     99.0  177.5  Cartier wristwatch  3 day auction  \n",
       "1     99.0  177.5  Cartier wristwatch  3 day auction  \n",
       "2     99.0  177.5  Cartier wristwatch  3 day auction  \n",
       "3     99.0  177.5  Cartier wristwatch  3 day auction  \n",
       "4     99.0  177.5  Cartier wristwatch  3 day auction  "
      ]
     },
     "execution_count": 5,
     "metadata": {},
     "output_type": "execute_result"
    }
   ],
   "source": [
    "auction_data['bid'] = pd.to_numeric(auction_data['bid'], errors='coerce')\n",
    "auction_data.head()"
   ]
  },
  {
   "cell_type": "code",
   "execution_count": 11,
   "id": "4c16521e",
   "metadata": {},
   "outputs": [
    {
     "name": "stdout",
     "output_type": "stream",
     "text": [
      "int64\n"
     ]
    }
   ],
   "source": [
    "print(auction_data['auctionid'].dtype)"
   ]
  },
  {
   "cell_type": "code",
   "execution_count": 9,
   "id": "aac15ace",
   "metadata": {},
   "outputs": [],
   "source": [
    "# Fill missing values or drop rows/columns with missing data\n",
    "# Example: Filling missing numerical columns with the mean and categorical with the mode\n",
    "auction_data['bidder'].fillna(auction_data['bidder'].mode()[0], inplace=True)\n",
    "auction_data['bidderrate'].fillna(auction_data['bidderrate'].mean(), inplace=True)"
   ]
  },
  {
   "cell_type": "code",
   "execution_count": 10,
   "id": "1e4f9975",
   "metadata": {},
   "outputs": [
    {
     "name": "stdout",
     "output_type": "stream",
     "text": [
      "auctionid       0\n",
      "bid             0\n",
      "bidtime         0\n",
      "bidder          0\n",
      "bidderrate      0\n",
      "openbid         0\n",
      "price           0\n",
      "item            0\n",
      "auction_type    0\n",
      "dtype: int64\n"
     ]
    },
    {
     "data": {
      "text/html": [
       "<div>\n",
       "<style scoped>\n",
       "    .dataframe tbody tr th:only-of-type {\n",
       "        vertical-align: middle;\n",
       "    }\n",
       "\n",
       "    .dataframe tbody tr th {\n",
       "        vertical-align: top;\n",
       "    }\n",
       "\n",
       "    .dataframe thead th {\n",
       "        text-align: right;\n",
       "    }\n",
       "</style>\n",
       "<table border=\"1\" class=\"dataframe\">\n",
       "  <thead>\n",
       "    <tr style=\"text-align: right;\">\n",
       "      <th></th>\n",
       "      <th>auctionid</th>\n",
       "      <th>bid</th>\n",
       "      <th>bidtime</th>\n",
       "      <th>bidder</th>\n",
       "      <th>bidderrate</th>\n",
       "      <th>openbid</th>\n",
       "      <th>price</th>\n",
       "      <th>item</th>\n",
       "      <th>auction_type</th>\n",
       "    </tr>\n",
       "  </thead>\n",
       "  <tbody>\n",
       "    <tr>\n",
       "      <th>0</th>\n",
       "      <td>1638893549</td>\n",
       "      <td>175.0</td>\n",
       "      <td>2.230949</td>\n",
       "      <td>schadenfreud</td>\n",
       "      <td>0.0</td>\n",
       "      <td>99.0</td>\n",
       "      <td>177.5</td>\n",
       "      <td>Cartier wristwatch</td>\n",
       "      <td>3 day auction</td>\n",
       "    </tr>\n",
       "    <tr>\n",
       "      <th>1</th>\n",
       "      <td>1638893549</td>\n",
       "      <td>100.0</td>\n",
       "      <td>2.600116</td>\n",
       "      <td>chuik</td>\n",
       "      <td>0.0</td>\n",
       "      <td>99.0</td>\n",
       "      <td>177.5</td>\n",
       "      <td>Cartier wristwatch</td>\n",
       "      <td>3 day auction</td>\n",
       "    </tr>\n",
       "    <tr>\n",
       "      <th>2</th>\n",
       "      <td>1638893549</td>\n",
       "      <td>120.0</td>\n",
       "      <td>2.600810</td>\n",
       "      <td>kiwisstuff</td>\n",
       "      <td>2.0</td>\n",
       "      <td>99.0</td>\n",
       "      <td>177.5</td>\n",
       "      <td>Cartier wristwatch</td>\n",
       "      <td>3 day auction</td>\n",
       "    </tr>\n",
       "    <tr>\n",
       "      <th>3</th>\n",
       "      <td>1638893549</td>\n",
       "      <td>150.0</td>\n",
       "      <td>2.601076</td>\n",
       "      <td>kiwisstuff</td>\n",
       "      <td>2.0</td>\n",
       "      <td>99.0</td>\n",
       "      <td>177.5</td>\n",
       "      <td>Cartier wristwatch</td>\n",
       "      <td>3 day auction</td>\n",
       "    </tr>\n",
       "    <tr>\n",
       "      <th>4</th>\n",
       "      <td>1638893549</td>\n",
       "      <td>177.5</td>\n",
       "      <td>2.909826</td>\n",
       "      <td>eli.flint@flightsafety.co</td>\n",
       "      <td>4.0</td>\n",
       "      <td>99.0</td>\n",
       "      <td>177.5</td>\n",
       "      <td>Cartier wristwatch</td>\n",
       "      <td>3 day auction</td>\n",
       "    </tr>\n",
       "  </tbody>\n",
       "</table>\n",
       "</div>"
      ],
      "text/plain": [
       "    auctionid    bid   bidtime                     bidder  bidderrate  \\\n",
       "0  1638893549  175.0  2.230949               schadenfreud         0.0   \n",
       "1  1638893549  100.0  2.600116                      chuik         0.0   \n",
       "2  1638893549  120.0  2.600810                 kiwisstuff         2.0   \n",
       "3  1638893549  150.0  2.601076                 kiwisstuff         2.0   \n",
       "4  1638893549  177.5  2.909826  eli.flint@flightsafety.co         4.0   \n",
       "\n",
       "   openbid  price                item   auction_type  \n",
       "0     99.0  177.5  Cartier wristwatch  3 day auction  \n",
       "1     99.0  177.5  Cartier wristwatch  3 day auction  \n",
       "2     99.0  177.5  Cartier wristwatch  3 day auction  \n",
       "3     99.0  177.5  Cartier wristwatch  3 day auction  \n",
       "4     99.0  177.5  Cartier wristwatch  3 day auction  "
      ]
     },
     "execution_count": 10,
     "metadata": {},
     "output_type": "execute_result"
    }
   ],
   "source": [
    "print(auction_data.isnull().sum())\n",
    "auction_data.head()"
   ]
  },
  {
   "cell_type": "code",
   "execution_count": 12,
   "id": "c4244736",
   "metadata": {},
   "outputs": [],
   "source": [
    "# 2. Convert Data Types\n",
    "# Convert 'auctionid' and 'bidder' to string to ensure they are treated as categorical identifiers\n",
    "auction_data['auctionid'] = auction_data['auctionid'].astype(str)\n",
    "auction_data['bidder'] = auction_data['bidder'].astype(str)"
   ]
  },
  {
   "cell_type": "code",
   "execution_count": 13,
   "id": "a2d0975b",
   "metadata": {},
   "outputs": [
    {
     "name": "stdout",
     "output_type": "stream",
     "text": [
      "    auctionid    bid   bidtime                     bidder  bidderrate  \\\n",
      "0  1638893549  175.0  2.230949               schadenfreud         0.0   \n",
      "1  1638893549  100.0  2.600116                      chuik         0.0   \n",
      "2  1638893549  120.0  2.600810                 kiwisstuff         2.0   \n",
      "3  1638893549  150.0  2.601076                 kiwisstuff         2.0   \n",
      "4  1638893549  177.5  2.909826  eli.flint@flightsafety.co         4.0   \n",
      "\n",
      "   openbid  price                item   auction_type  bidder_frequency  \\\n",
      "0     99.0  177.5  Cartier wristwatch  3 day auction                 1   \n",
      "1     99.0  177.5  Cartier wristwatch  3 day auction                 1   \n",
      "2     99.0  177.5  Cartier wristwatch  3 day auction                 2   \n",
      "3     99.0  177.5  Cartier wristwatch  3 day auction                 2   \n",
      "4     99.0  177.5  Cartier wristwatch  3 day auction                 1   \n",
      "\n",
      "   bidtime_diff  price_deviation  avg_bid  \n",
      "0      0.000000             78.5    175.0  \n",
      "1      0.000000             78.5    100.0  \n",
      "2      0.000000             78.5    135.0  \n",
      "3      0.000266             78.5    135.0  \n",
      "4      0.000000             78.5    177.5  \n"
     ]
    }
   ],
   "source": [
    "# 3. Feature Engineering\n",
    "# Create new features that could be helpful for detecting collusion or suspicious behavior:\n",
    "# 3.1 Bidder Frequency: Count of bids placed by each bidder\n",
    "auction_data['bidder_frequency'] = auction_data.groupby('bidder')['bid'].transform('count')\n",
    "\n",
    "# 3.2 Time Gap Between Bids: Difference in bid time between consecutive bids by the same bidder\n",
    "auction_data['bidtime_diff'] = auction_data.groupby('bidder')['bidtime'].diff().fillna(0)\n",
    "\n",
    "# 3.3 Price Deviation: Difference between final price and opening bid\n",
    "auction_data['price_deviation'] = auction_data['price'] - auction_data['openbid']\n",
    "\n",
    "# 3.4 Average Bid: Calculate the average bid placed by each bidder\n",
    "auction_data['avg_bid'] = auction_data.groupby('bidder')['bid'].transform('mean')\n",
    "\n",
    "# 4. Check the processed data\n",
    "print(auction_data.head())\n",
    "\n",
    "# 5. Save the cleaned and feature-engineered data to a new CSV file\n",
    "auction_data.to_csv('auction_cleaned.csv', index=False)"
   ]
  },
  {
   "cell_type": "markdown",
   "id": "fd19ed3f",
   "metadata": {},
   "source": [
    "# DBScan"
   ]
  },
  {
   "cell_type": "code",
   "execution_count": 14,
   "id": "70157cc4",
   "metadata": {},
   "outputs": [],
   "source": [
    "from sklearn.cluster import DBSCAN\n",
    "import numpy as np\n",
    "\n",
    "# Selecting the features you want to use for DBSCAN (based on your engineered features)\n",
    "features = ['bidder_frequency', 'bidtime_diff', 'price_deviation', 'avg_bid']\n",
    "\n",
    "# Standardizing the data for better clustering performance\n",
    "from sklearn.preprocessing import StandardScaler\n",
    "scaler = StandardScaler()\n",
    "scaled_features = scaler.fit_transform(auction_data[features])"
   ]
  },
  {
   "cell_type": "code",
   "execution_count": 15,
   "id": "697e48ee",
   "metadata": {},
   "outputs": [
    {
     "name": "stdout",
     "output_type": "stream",
     "text": [
      "[[-0.83542649 -0.14762085 -0.53839464 -0.1044352 ]\n",
      " [-0.83542649 -0.14762085 -0.53839464 -0.34480265]\n",
      " [-0.71180235 -0.14762085 -0.53839464 -0.23263117]\n",
      " ...\n",
      " [-0.58817821 -0.68219183 -0.50808814 -0.38219314]\n",
      " [-0.71180235 -0.05410958 -0.50808814 -0.37204429]\n",
      " [-0.83542649 -0.14762085 -0.50808814 -0.37681959]]\n"
     ]
    }
   ],
   "source": [
    "print(scaled_features)"
   ]
  },
  {
   "cell_type": "code",
   "execution_count": 28,
   "id": "76d8c28a",
   "metadata": {},
   "outputs": [
    {
     "name": "stdout",
     "output_type": "stream",
     "text": [
      "                      bidder  dbscan_cluster\n",
      "0               schadenfreud               0\n",
      "1                      chuik               0\n",
      "2                 kiwisstuff               0\n",
      "3                 kiwisstuff               0\n",
      "4  eli.flint@flightsafety.co               0\n"
     ]
    }
   ],
   "source": [
    "# Applying DBSCAN\n",
    "#eps => the maximum distance between two points for them to be considered as part of the same neighborhood\n",
    "#min_samples => minimum number of points required to form a dense region\n",
    "\n",
    "dbscan = DBSCAN(eps=0.5, min_samples=5)\n",
    "auction_data['dbscan_cluster'] = dbscan.fit_predict(scaled_features)\n",
    "\n",
    "# The 'dbscan_cluster' column will now contain cluster labels or -1 for outliers (noise)\n",
    "#These bidders may be engaging in suspicious behavior, such as placing unusually high or low bids at strategic times.\n",
    "\n",
    "print(auction_data[['bidder', 'dbscan_cluster']].head())"
   ]
  },
  {
   "cell_type": "code",
   "execution_count": 19,
   "id": "5c8e0c18",
   "metadata": {},
   "outputs": [],
   "source": [
    "# print(auction_data[['bidder', 'dbscan_cluster']])"
   ]
  },
  {
   "cell_type": "code",
   "execution_count": 29,
   "id": "26b926b0",
   "metadata": {},
   "outputs": [
    {
     "name": "stdout",
     "output_type": "stream",
     "text": [
      " 0     10029\n",
      "-1       373\n",
      " 25       51\n",
      " 2        37\n",
      " 1        20\n",
      " 8        14\n",
      " 5        12\n",
      " 15       12\n",
      " 21       11\n",
      " 7        11\n",
      " 3        11\n",
      " 22       10\n",
      " 13        8\n",
      " 12        7\n",
      " 4         7\n",
      " 9         6\n",
      " 6         6\n",
      " 19        6\n",
      " 10        5\n",
      " 14        5\n",
      " 16        5\n",
      " 17        5\n",
      " 18        5\n",
      " 20        5\n",
      " 11        5\n",
      " 23        5\n",
      " 24        5\n",
      " 26        5\n",
      "Name: dbscan_cluster, dtype: int64\n"
     ]
    }
   ],
   "source": [
    "print(auction_data['dbscan_cluster'].value_counts())"
   ]
  },
  {
   "cell_type": "code",
   "execution_count": 20,
   "id": "661138c1",
   "metadata": {},
   "outputs": [
    {
     "name": "stdout",
     "output_type": "stream",
     "text": [
      "      auctionid    bid   bidtime        bidder  bidderrate  openbid   price  \\\n",
      "55   1643075711  500.0  0.250718  restdynamics         0.0    200.0  1225.0   \n",
      "59   1643075711  700.0  0.554294      lass1004         3.0    200.0  1225.0   \n",
      "64   1643075711  790.0  1.252813  restdynamics         0.0    200.0  1225.0   \n",
      "65   1643075711  810.0  1.252998  restdynamics         0.0    200.0  1225.0   \n",
      "101  1643885624  175.0  2.836910     trunkbath         0.0    100.0   326.0   \n",
      "\n",
      "                   item   auction_type  bidder_frequency  bidtime_diff  \\\n",
      "55   Cartier wristwatch  3 day auction                27      0.000000   \n",
      "59   Cartier wristwatch  3 day auction                29      0.000000   \n",
      "64   Cartier wristwatch  3 day auction                27      1.002095   \n",
      "65   Cartier wristwatch  3 day auction                27      0.000185   \n",
      "101  Cartier wristwatch  3 day auction                14      0.000000   \n",
      "\n",
      "     price_deviation     avg_bid  dbscan_cluster  \n",
      "55            1025.0  787.407407              -1  \n",
      "59            1025.0  430.206552              -1  \n",
      "64            1025.0  787.407407              -1  \n",
      "65            1025.0  787.407407              -1  \n",
      "101            226.0  941.071429              -1  \n"
     ]
    }
   ],
   "source": [
    "outliers = auction_data[auction_data['dbscan_cluster'] == -1]\n",
    "print(outliers.head())"
   ]
  },
  {
   "cell_type": "code",
   "execution_count": 21,
   "id": "86bc9027",
   "metadata": {},
   "outputs": [
    {
     "data": {
      "image/png": "[encoded data removed]",
      "text/plain": [
       "<Figure size 640x480 with 1 Axes>"
      ]
     },
     "metadata": {},
     "output_type": "display_data"
    }
   ],
   "source": [
    "import matplotlib.pyplot as plt\n",
    "\n",
    "# Scatter plot showing clusters and outliers\n",
    "plt.scatter(auction_data['bidtime'], auction_data['price_deviation'], c=auction_data['dbscan_cluster'], cmap='viridis')\n",
    "plt.scatter(outliers['bidtime'], outliers['price_deviation'], color='red', label='Outliers')\n",
    "plt.xlabel('Bid Time')\n",
    "plt.ylabel('Price Deviation')\n",
    "plt.legend()\n",
    "plt.title('DBSCAN Clustering with Outliers Highlighted')\n",
    "plt.show()\n"
   ]
  },
  {
   "cell_type": "markdown",
   "id": "5f435efd",
   "metadata": {},
   "source": [
    "# Z-Score for Outlier Detection"
   ]
  },
  {
   "cell_type": "code",
   "execution_count": 30,
   "id": "45bdab51",
   "metadata": {},
   "outputs": [
    {
     "name": "stdout",
     "output_type": "stream",
     "text": [
      "                  bidder     bid  bid_zscore\n",
      "68               6969.ca  1225.0    3.149671\n",
      "69    gm492@columbia.edu  1200.0    3.072277\n",
      "160           pereluzi00  1210.0    3.103235\n",
      "161           barginbook  1500.0    4.001005\n",
      "162           pereluzi00  1260.0    3.258023\n",
      "...                  ...     ...         ...\n",
      "1921             hjg6593  1200.0    3.072277\n",
      "1922             hjg6593  1800.0    4.929734\n",
      "1923          rplfunding  2800.0    8.025496\n",
      "1924             alexiku  3000.0    8.644648\n",
      "1925          rplfunding  3050.0    8.799436\n",
      "\n",
      "[304 rows x 3 columns]\n"
     ]
    }
   ],
   "source": [
    "from scipy.stats import zscore\n",
    "\n",
    "# Calculate Z-Score for the bid column\n",
    "auction_data['bid_zscore'] = zscore(auction_data['bid'])\n",
    "\n",
    "# Flag suspicious bidders where the absolute Z-score is greater than 3 (considered as outliers)\n",
    "suspicious_bidders = auction_data[auction_data['bid_zscore'].abs() > 3]\n",
    "\n",
    "# Output the suspicious bidders\n",
    "print(suspicious_bidders[['bidder', 'bid', 'bid_zscore']])"
   ]
  },
  {
   "cell_type": "code",
   "execution_count": 34,
   "id": "20f1a0d7",
   "metadata": {},
   "outputs": [
    {
     "name": "stdout",
     "output_type": "stream",
     "text": [
      "Number of suspicious bidders: 304\n",
      "Percentage of suspicious bidders: 2.85%\n"
     ]
    }
   ],
   "source": [
    "# Count the number of suspicious bidders based on Z-score outlier detection\n",
    "suspicious_bidders_count = suspicious_bidders.shape[0]\n",
    "print(f'Number of suspicious bidders: {suspicious_bidders_count}')\n",
    "print(f'Percentage of suspicious bidders: {(suspicious_bidders_count/auction_data.shape[0])*100:.2f}%')"
   ]
  },
  {
   "cell_type": "markdown",
   "id": "430e6f1e",
   "metadata": {},
   "source": [
    "# Collusion and Bid-Rigging Detection Logic"
   ]
  },
  {
   "cell_type": "markdown",
   "id": "deaa6b60",
   "metadata": {},
   "source": [
    "### Price Deviation Analysis"
   ]
  },
  {
   "cell_type": "code",
   "execution_count": 44,
   "id": "6f09fae5",
   "metadata": {},
   "outputs": [
    {
     "name": "stdout",
     "output_type": "stream",
     "text": [
      "                  bidder   auctionid     bid  bid_zscore  dbscan_cluster\n",
      "68               6969.ca  1643075711  1225.0    3.149671               0\n",
      "69    gm492@columbia.edu  1643075711  1200.0    3.072277               0\n",
      "163           pereluzi00  1646353713  1310.0    3.412811               1\n",
      "164           pereluzi00  1646353713  1360.0    3.567599               1\n",
      "165           pereluzi00  1646353713  1460.0    3.877175               1\n",
      "...                  ...         ...     ...         ...             ...\n",
      "1803             rrsumba  1649718196  1799.0    4.926638               0\n",
      "1860            strongob  1649944294  1200.0    3.072277               0\n",
      "1861            strongob  1649944294  1300.0    3.381853               0\n",
      "1862            strongob  1649944294  1400.0    3.691429               0\n",
      "1864         boxsterbear  1649944294  1460.0    3.877175               0\n",
      "\n",
      "[181 rows x 5 columns]\n",
      "Number of potential colluders: 181\n"
     ]
    }
   ],
   "source": [
    "# Combine DBSCAN cluster labels and statistical outlier detection (Z-Score and Price Deviation)\n",
    "potential_collusion = auction_data[\n",
    "    (auction_data['dbscan_cluster'] != -1) &  # DBSCAN clusters (not noise, i.e., -1)\n",
    "    (auction_data['bid_zscore'].abs() > 3)  # Z-Score outliers\n",
    "]\n",
    "# Output potential collusion suspects\n",
    "print(potential_collusion[['bidder', 'auctionid', 'bid', 'bid_zscore', 'dbscan_cluster']])\n",
    "print(f'Number of potential colluders: {potential_collusion.shape[0]}')"
   ]
  },
  {
   "cell_type": "markdown",
   "id": "516eb728",
   "metadata": {},
   "source": [
    "### Bidder Frequency and Time Gap Analysis"
   ]
  },
  {
   "cell_type": "code",
   "execution_count": 45,
   "id": "9651e2fd",
   "metadata": {},
   "outputs": [
    {
     "name": "stdout",
     "output_type": "stream",
     "text": [
      "                  bidder   auctionid     bid  price_deviation  bid_zscore  \\\n",
      "68               6969.ca  1643075711  1225.0           1025.0    3.149671   \n",
      "69    gm492@columbia.edu  1643075711  1200.0           1025.0    3.072277   \n",
      "163           pereluzi00  1646353713  1310.0            535.0    3.412811   \n",
      "164           pereluzi00  1646353713  1360.0            535.0    3.567599   \n",
      "165           pereluzi00  1646353713  1460.0            535.0    3.877175   \n",
      "...                  ...         ...     ...              ...         ...   \n",
      "1803             rrsumba  1649718196  1799.0           1798.0    4.926638   \n",
      "1860            strongob  1649944294  1200.0           1484.0    3.072277   \n",
      "1861            strongob  1649944294  1300.0           1484.0    3.381853   \n",
      "1862            strongob  1649944294  1400.0           1484.0    3.691429   \n",
      "1864         boxsterbear  1649944294  1460.0           1484.0    3.877175   \n",
      "\n",
      "      bidtime_diff  dbscan_cluster  \n",
      "68        0.000000               0  \n",
      "69        0.004514               0  \n",
      "163       0.000127               1  \n",
      "164       0.000220               1  \n",
      "165       0.000174               1  \n",
      "...            ...             ...  \n",
      "1803      0.000602               0  \n",
      "1860      0.000613               0  \n",
      "1861      0.000301               0  \n",
      "1862      0.000243               0  \n",
      "1864      0.020104               0  \n",
      "\n",
      "[181 rows x 7 columns]\n",
      "Number of potential colluders: 181\n"
     ]
    }
   ],
   "source": [
    "# Apply the threshold for price deviation, time gap, and frequency\n",
    "price_threshold = 100  \n",
    "time_gap_threshold = 10 \n",
    "frequency_threshold = 5 \n",
    "\n",
    "# Filter potential collusion based on DBSCAN, Z-score, and price deviation\n",
    "potential_collusion = auction_data[\n",
    "    (auction_data['dbscan_cluster'] != -1) &  # DBSCAN clusters (not noise, i.e., -1)\n",
    "    (auction_data['bid_zscore'].abs() > 3) &  # Z-Score outliers\n",
    "    (auction_data['price_deviation'] > price_threshold)  # Price deviation threshold\n",
    "]\n",
    "\n",
    "# Filter based on suspicious bidder behavior: frequency and time gaps\n",
    "suspicious_time_gap_bidders = auction_data[auction_data['bidtime_diff'] < time_gap_threshold]\n",
    "suspicious_bidder_frequency = auction_data[auction_data['bidder_frequency'] > frequency_threshold]\n",
    "\n",
    "# Combine the results from all filters\n",
    "suspicious_bidders = potential_collusion[\n",
    "    (potential_collusion['bidder'].isin(suspicious_time_gap_bidders['bidder'])) |  # Time gap-based suspicion\n",
    "    (potential_collusion['bidder'].isin(suspicious_bidder_frequency['bidder']))  # Frequency-based suspicion\n",
    "]\n",
    "\n",
    "# Print the final suspicious bidders\n",
    "print(suspicious_bidders[['bidder', 'auctionid', 'bid', 'price_deviation', 'bid_zscore', 'bidtime_diff', 'dbscan_cluster']])\n",
    "print(f'Number of potential colluders: {suspicious_bidders.shape[0]}')"
   ]
  },
  {
   "cell_type": "code",
   "execution_count": null,
   "id": "41937756",
   "metadata": {},
   "outputs": [],
   "source": []
  },
  {
   "cell_type": "code",
   "execution_count": null,
   "id": "7fa49db7",
   "metadata": {},
   "outputs": [],
   "source": []
  },
  {
   "cell_type": "code",
   "execution_count": null,
   "id": "0809e6a3",
   "metadata": {},
   "outputs": [],
   "source": []
  },
  {
   "cell_type": "code",
   "execution_count": null,
   "id": "3807c3c6",
   "metadata": {},
   "outputs": [],
   "source": []
  },
  {
   "cell_type": "code",
   "execution_count": null,
   "id": "146c0943",
   "metadata": {},
   "outputs": [],
   "source": []
  },
  {
   "cell_type": "code",
   "execution_count": null,
   "id": "e3e50cd8",
   "metadata": {},
   "outputs": [],
   "source": []
  },
  {
   "cell_type": "code",
   "execution_count": null,
   "id": "b3f50eb8",
   "metadata": {},
   "outputs": [],
   "source": []
  }
 ],
 "metadata": {
  "kernelspec": {
   "display_name": "Python 3 (ipykernel)",
   "language": "python",
   "name": "python3"
  },
  "language_info": {
   "codemirror_mode": {
    "name": "ipython",
    "version": 3
   },
   "file_extension": ".py",
   "mimetype": "text/x-python",
   "name": "python",
   "nbconvert_exporter": "python",
   "pygments_lexer": "ipython3",
   "version": "3.9.16"
  }
 },
 "nbformat": 4,
 "nbformat_minor": 5
}
